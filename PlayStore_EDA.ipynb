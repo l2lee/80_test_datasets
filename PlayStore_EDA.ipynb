{
 "cells": [
  {
   "cell_type": "code",
   "execution_count": 1,
   "id": "989efda5",
   "metadata": {},
   "outputs": [],
   "source": [
    "import pandas as pd\n",
    "import numpy as np\n",
    "import seaborn as sns\n",
    "from scipy.stats import ks_2samp\n",
    "import matplotlib.pyplot as plt"
   ]
  },
  {
   "cell_type": "code",
   "execution_count": 2,
   "id": "c7464e65",
   "metadata": {},
   "outputs": [
    {
     "data": {
      "text/html": [
       "<div>\n",
       "<style scoped>\n",
       "    .dataframe tbody tr th:only-of-type {\n",
       "        vertical-align: middle;\n",
       "    }\n",
       "\n",
       "    .dataframe tbody tr th {\n",
       "        vertical-align: top;\n",
       "    }\n",
       "\n",
       "    .dataframe thead th {\n",
       "        text-align: right;\n",
       "    }\n",
       "</style>\n",
       "<table border=\"1\" class=\"dataframe\">\n",
       "  <thead>\n",
       "    <tr style=\"text-align: right;\">\n",
       "      <th></th>\n",
       "      <th>App</th>\n",
       "      <th>Category</th>\n",
       "      <th>Rating</th>\n",
       "      <th>Reviews</th>\n",
       "      <th>Size</th>\n",
       "      <th>Installs</th>\n",
       "      <th>Type</th>\n",
       "      <th>Price</th>\n",
       "      <th>Content Rating</th>\n",
       "      <th>Genres</th>\n",
       "      <th>Last Updated</th>\n",
       "      <th>Current Ver</th>\n",
       "      <th>Android Ver</th>\n",
       "    </tr>\n",
       "  </thead>\n",
       "  <tbody>\n",
       "    <tr>\n",
       "      <th>0</th>\n",
       "      <td>Photo Editor &amp; Candy Camera &amp; Grid &amp; ScrapBook</td>\n",
       "      <td>ART_AND_DESIGN</td>\n",
       "      <td>4.1</td>\n",
       "      <td>159</td>\n",
       "      <td>19M</td>\n",
       "      <td>10,000+</td>\n",
       "      <td>Free</td>\n",
       "      <td>0</td>\n",
       "      <td>Everyone</td>\n",
       "      <td>Art &amp; Design</td>\n",
       "      <td>January 7, 2018</td>\n",
       "      <td>1.0.0</td>\n",
       "      <td>4.0.3 and up</td>\n",
       "    </tr>\n",
       "    <tr>\n",
       "      <th>1</th>\n",
       "      <td>Coloring book moana</td>\n",
       "      <td>ART_AND_DESIGN</td>\n",
       "      <td>3.9</td>\n",
       "      <td>967</td>\n",
       "      <td>14M</td>\n",
       "      <td>500,000+</td>\n",
       "      <td>Free</td>\n",
       "      <td>0</td>\n",
       "      <td>Everyone</td>\n",
       "      <td>Art &amp; Design;Pretend Play</td>\n",
       "      <td>January 15, 2018</td>\n",
       "      <td>2.0.0</td>\n",
       "      <td>4.0.3 and up</td>\n",
       "    </tr>\n",
       "    <tr>\n",
       "      <th>2</th>\n",
       "      <td>U Launcher Lite – FREE Live Cool Themes, Hide ...</td>\n",
       "      <td>ART_AND_DESIGN</td>\n",
       "      <td>4.7</td>\n",
       "      <td>87510</td>\n",
       "      <td>8.7M</td>\n",
       "      <td>5,000,000+</td>\n",
       "      <td>Free</td>\n",
       "      <td>0</td>\n",
       "      <td>Everyone</td>\n",
       "      <td>Art &amp; Design</td>\n",
       "      <td>August 1, 2018</td>\n",
       "      <td>1.2.4</td>\n",
       "      <td>4.0.3 and up</td>\n",
       "    </tr>\n",
       "    <tr>\n",
       "      <th>3</th>\n",
       "      <td>Sketch - Draw &amp; Paint</td>\n",
       "      <td>ART_AND_DESIGN</td>\n",
       "      <td>4.5</td>\n",
       "      <td>215644</td>\n",
       "      <td>25M</td>\n",
       "      <td>50,000,000+</td>\n",
       "      <td>Free</td>\n",
       "      <td>0</td>\n",
       "      <td>Teen</td>\n",
       "      <td>Art &amp; Design</td>\n",
       "      <td>June 8, 2018</td>\n",
       "      <td>Varies with device</td>\n",
       "      <td>4.2 and up</td>\n",
       "    </tr>\n",
       "    <tr>\n",
       "      <th>4</th>\n",
       "      <td>Pixel Draw - Number Art Coloring Book</td>\n",
       "      <td>ART_AND_DESIGN</td>\n",
       "      <td>4.3</td>\n",
       "      <td>967</td>\n",
       "      <td>2.8M</td>\n",
       "      <td>100,000+</td>\n",
       "      <td>Free</td>\n",
       "      <td>0</td>\n",
       "      <td>Everyone</td>\n",
       "      <td>Art &amp; Design;Creativity</td>\n",
       "      <td>June 20, 2018</td>\n",
       "      <td>1.1</td>\n",
       "      <td>4.4 and up</td>\n",
       "    </tr>\n",
       "  </tbody>\n",
       "</table>\n",
       "</div>"
      ],
      "text/plain": [
       "                                                 App        Category  Rating  \\\n",
       "0     Photo Editor & Candy Camera & Grid & ScrapBook  ART_AND_DESIGN     4.1   \n",
       "1                                Coloring book moana  ART_AND_DESIGN     3.9   \n",
       "2  U Launcher Lite – FREE Live Cool Themes, Hide ...  ART_AND_DESIGN     4.7   \n",
       "3                              Sketch - Draw & Paint  ART_AND_DESIGN     4.5   \n",
       "4              Pixel Draw - Number Art Coloring Book  ART_AND_DESIGN     4.3   \n",
       "\n",
       "  Reviews  Size     Installs  Type Price Content Rating  \\\n",
       "0     159   19M      10,000+  Free     0       Everyone   \n",
       "1     967   14M     500,000+  Free     0       Everyone   \n",
       "2   87510  8.7M   5,000,000+  Free     0       Everyone   \n",
       "3  215644   25M  50,000,000+  Free     0           Teen   \n",
       "4     967  2.8M     100,000+  Free     0       Everyone   \n",
       "\n",
       "                      Genres      Last Updated         Current Ver  \\\n",
       "0               Art & Design   January 7, 2018               1.0.0   \n",
       "1  Art & Design;Pretend Play  January 15, 2018               2.0.0   \n",
       "2               Art & Design    August 1, 2018               1.2.4   \n",
       "3               Art & Design      June 8, 2018  Varies with device   \n",
       "4    Art & Design;Creativity     June 20, 2018                 1.1   \n",
       "\n",
       "    Android Ver  \n",
       "0  4.0.3 and up  \n",
       "1  4.0.3 and up  \n",
       "2  4.0.3 and up  \n",
       "3    4.2 and up  \n",
       "4    4.4 and up  "
      ]
     },
     "execution_count": 2,
     "metadata": {},
     "output_type": "execute_result"
    }
   ],
   "source": [
    "ps = pd.read_csv('googleplaystore.csv')\n",
    "ps.head()"
   ]
  },
  {
   "cell_type": "code",
   "execution_count": 3,
   "id": "544b2454",
   "metadata": {},
   "outputs": [
    {
     "data": {
      "text/plain": [
       "(10841, 13)"
      ]
     },
     "execution_count": 3,
     "metadata": {},
     "output_type": "execute_result"
    }
   ],
   "source": [
    "ps.shape"
   ]
  },
  {
   "cell_type": "markdown",
   "id": "69adcffc",
   "metadata": {},
   "source": [
    "## Cleaning Data"
   ]
  },
  {
   "cell_type": "code",
   "execution_count": 4,
   "id": "ee2aafa4",
   "metadata": {},
   "outputs": [
    {
     "name": "stdout",
     "output_type": "stream",
     "text": [
      "<class 'pandas.core.frame.DataFrame'>\n",
      "RangeIndex: 10841 entries, 0 to 10840\n",
      "Data columns (total 13 columns):\n",
      " #   Column          Non-Null Count  Dtype  \n",
      "---  ------          --------------  -----  \n",
      " 0   App             10841 non-null  object \n",
      " 1   Category        10841 non-null  object \n",
      " 2   Rating          9367 non-null   float64\n",
      " 3   Reviews         10841 non-null  object \n",
      " 4   Size            10841 non-null  object \n",
      " 5   Installs        10841 non-null  object \n",
      " 6   Type            10840 non-null  object \n",
      " 7   Price           10841 non-null  object \n",
      " 8   Content Rating  10840 non-null  object \n",
      " 9   Genres          10841 non-null  object \n",
      " 10  Last Updated    10841 non-null  object \n",
      " 11  Current Ver     10833 non-null  object \n",
      " 12  Android Ver     10838 non-null  object \n",
      "dtypes: float64(1), object(12)\n",
      "memory usage: 1.1+ MB\n"
     ]
    }
   ],
   "source": [
    "ps.info()"
   ]
  },
  {
   "cell_type": "markdown",
   "id": "81c389ff",
   "metadata": {},
   "source": [
    "## Clean the data -\n",
    "Reviews, size, price at some leve all need some cleaning. Eg. in the Price column, some are pre pended with $ and some arent. A dive into data cleaning will show that 1 row is actually entered wrong in the sense that the column values are shifted left. Students could also create new columns out of given ones since they might want to turn size to a fixed unit, such as megabytes.  "
   ]
  },
  {
   "cell_type": "code",
   "execution_count": 5,
   "id": "ec295d00",
   "metadata": {},
   "outputs": [
    {
     "data": {
      "text/html": [
       "<div>\n",
       "<style scoped>\n",
       "    .dataframe tbody tr th:only-of-type {\n",
       "        vertical-align: middle;\n",
       "    }\n",
       "\n",
       "    .dataframe tbody tr th {\n",
       "        vertical-align: top;\n",
       "    }\n",
       "\n",
       "    .dataframe thead th {\n",
       "        text-align: right;\n",
       "    }\n",
       "</style>\n",
       "<table border=\"1\" class=\"dataframe\">\n",
       "  <thead>\n",
       "    <tr style=\"text-align: right;\">\n",
       "      <th></th>\n",
       "      <th>App</th>\n",
       "      <th>Category</th>\n",
       "      <th>Rating</th>\n",
       "      <th>Reviews</th>\n",
       "      <th>Size</th>\n",
       "      <th>Installs</th>\n",
       "      <th>Type</th>\n",
       "      <th>Price</th>\n",
       "      <th>Content Rating</th>\n",
       "      <th>Genres</th>\n",
       "      <th>Last Updated</th>\n",
       "      <th>Current Ver</th>\n",
       "      <th>Android Ver</th>\n",
       "    </tr>\n",
       "  </thead>\n",
       "  <tbody>\n",
       "    <tr>\n",
       "      <th>10472</th>\n",
       "      <td>Life Made WI-Fi Touchscreen Photo Frame</td>\n",
       "      <td>1.9</td>\n",
       "      <td>19.0</td>\n",
       "      <td>3.0M</td>\n",
       "      <td>1,000+</td>\n",
       "      <td>Free</td>\n",
       "      <td>0</td>\n",
       "      <td>Everyone</td>\n",
       "      <td>NaN</td>\n",
       "      <td>February 11, 2018</td>\n",
       "      <td>1.0.19</td>\n",
       "      <td>4.0 and up</td>\n",
       "      <td>NaN</td>\n",
       "    </tr>\n",
       "  </tbody>\n",
       "</table>\n",
       "</div>"
      ],
      "text/plain": [
       "                                           App Category  Rating Reviews  \\\n",
       "10472  Life Made WI-Fi Touchscreen Photo Frame      1.9    19.0    3.0M   \n",
       "\n",
       "         Size Installs Type     Price Content Rating             Genres  \\\n",
       "10472  1,000+     Free    0  Everyone            NaN  February 11, 2018   \n",
       "\n",
       "      Last Updated Current Ver Android Ver  \n",
       "10472       1.0.19  4.0 and up         NaN  "
      ]
     },
     "execution_count": 5,
     "metadata": {},
     "output_type": "execute_result"
    }
   ],
   "source": [
    "# row where students should justify whether to drop since it's entered incorrectly (column values shifted right)\n",
    "ps[ps.Reviews.str.find('M') != -1]"
   ]
  },
  {
   "cell_type": "code",
   "execution_count": 6,
   "id": "81bb0f47",
   "metadata": {},
   "outputs": [],
   "source": [
    "ps = ps.drop(10472)"
   ]
  },
  {
   "cell_type": "markdown",
   "id": "76039617",
   "metadata": {},
   "source": [
    "Students will likely find this since when looking at the distribution of Ratings, they will likely wonder why there is a single point that is causing the rating axis to be so large"
   ]
  },
  {
   "cell_type": "markdown",
   "id": "091d2ee0",
   "metadata": {},
   "source": [
    "## Univariate Analysis - \n",
    "Can look at distribution of categories, number of reviews, app sizes and so on. \n"
   ]
  },
  {
   "cell_type": "code",
   "execution_count": 7,
   "id": "f81623bb",
   "metadata": {},
   "outputs": [
    {
     "data": {
      "text/plain": [
       "<seaborn.axisgrid.FacetGrid at 0x7fadd4eaf040>"
      ]
     },
     "execution_count": 7,
     "metadata": {},
     "output_type": "execute_result"
    },
    {
     "data": {
      "image/png": "[encoded data removed]",
      "text/plain": [
       "<Figure size 500x500 with 1 Axes>"
      ]
     },
     "metadata": {},
     "output_type": "display_data"
    }
   ],
   "source": [
    "sns.displot(ps, x='Rating')"
   ]
  },
  {
   "cell_type": "code",
   "execution_count": null,
   "id": "c19894e9",
   "metadata": {},
   "outputs": [],
   "source": []
  },
  {
   "cell_type": "markdown",
   "id": "663ef528",
   "metadata": {},
   "source": [
    "## Bivariate Analysis - \n",
    "eg. Can look at distribution of ratings for apps that are paid vs not paid, "
   ]
  },
  {
   "cell_type": "code",
   "execution_count": 8,
   "id": "9391fd27",
   "metadata": {},
   "outputs": [
    {
     "name": "stderr",
     "output_type": "stream",
     "text": [
      "/var/folders/42/7620rj0s40l61g76z97k379m0000gn/T/ipykernel_41760/2691133224.py:1: FutureWarning: The default value of regex will change from True to False in a future version. In addition, single character regular expressions will *not* be treated as literal strings when regex=True.\n",
      "  ps['is_paid'] = ps['Price'].str.replace('$', '').astype(float) == 0\n"
     ]
    }
   ],
   "source": [
    "ps['is_paid'] = ps['Price'].str.replace('$', '').astype(float) == 0"
   ]
  },
  {
   "cell_type": "code",
   "execution_count": 9,
   "id": "df3b4256",
   "metadata": {},
   "outputs": [
    {
     "data": {
      "text/plain": [
       "Index(['FAMILY', 'GAME', 'TOOLS', 'MEDICAL', 'BUSINESS', 'PRODUCTIVITY',\n",
       "       'PERSONALIZATION', 'COMMUNICATION', 'SPORTS', 'LIFESTYLE'],\n",
       "      dtype='object')"
      ]
     },
     "execution_count": 9,
     "metadata": {},
     "output_type": "execute_result"
    }
   ],
   "source": [
    "top_10_categories = ps.Category.value_counts().sort_values(ascending=False)[:10].index\n",
    "top_10_categories"
   ]
  },
  {
   "cell_type": "code",
   "execution_count": 10,
   "id": "b4dfb7a2",
   "metadata": {},
   "outputs": [
    {
     "data": {
      "text/plain": [
       "(array([0, 1, 2, 3, 4, 5, 6, 7, 8, 9]),\n",
       " [Text(0, 0, 'BUSINESS'),\n",
       "  Text(1, 0, 'COMMUNICATION'),\n",
       "  Text(2, 0, 'LIFESTYLE'),\n",
       "  Text(3, 0, 'GAME'),\n",
       "  Text(4, 0, 'FAMILY'),\n",
       "  Text(5, 0, 'MEDICAL'),\n",
       "  Text(6, 0, 'SPORTS'),\n",
       "  Text(7, 0, 'TOOLS'),\n",
       "  Text(8, 0, 'PERSONALIZATION'),\n",
       "  Text(9, 0, 'PRODUCTIVITY')])"
      ]
     },
     "execution_count": 10,
     "metadata": {},
     "output_type": "execute_result"
    },
    {
     "data": {
      "image/png": "[encoded data removed]",
      "text/plain": [
       "<Figure size 640x480 with 1 Axes>"
      ]
     },
     "metadata": {},
     "output_type": "display_data"
    }
   ],
   "source": [
    "sns.barplot(x='Category', y='Rating', data=ps[ps.Category.isin(top_10_categories)])\n",
    "plt.xticks(rotation=45)"
   ]
  },
  {
   "cell_type": "markdown",
   "id": "4f7e869e",
   "metadata": {},
   "source": [
    "## Interesting Aggregate\n",
    "Can aggregate based on Category, Content Rating, and even columns that they can create such as bins of price, size, and number of installs and how that affects rating"
   ]
  },
  {
   "cell_type": "markdown",
   "id": "bd50a97e",
   "metadata": {},
   "source": [
    "## Missingness\n"
   ]
  },
  {
   "cell_type": "code",
   "execution_count": 11,
   "id": "f76f037c",
   "metadata": {},
   "outputs": [],
   "source": [
    "def assess_missingness(data,focus_col,compare_col,stat=\"tvd\",n_repetitions=1000):\n",
    "    def tvd(data,missing_col,compare_col):\n",
    "        pivoted = (\n",
    "            shuffled\n",
    "            .pivot_table(index=missing_col, columns=compare_col, aggfunc='size')\n",
    "            .apply(lambda x: x / x.sum(), axis=1)\n",
    "        )\n",
    "\n",
    "        tvd = pivoted.diff().iloc[-1].abs().sum() / 2\n",
    "        return tvd\n",
    "    \n",
    "    def ks_test(data,missing_col,compare_col):\n",
    "        missing_data = data.loc[data[missing_col],compare_col]\n",
    "        nonmissing_data = data.loc[~data[missing_col],compare_col]\n",
    "        return ks_2samp(missing_data, nonmissing_data).pvalue\n",
    "    \n",
    "    shuffled = data.copy()\n",
    "    missing_col = focus_col+'_missing'\n",
    "    shuffled[missing_col] = shuffled[focus_col].isna()\n",
    "    \n",
    "    \n",
    "    if stat == \"ks\":\n",
    "        return ks_test(shuffled,missing_col,compare_col)\n",
    "    \n",
    "    if stat == \"tvd\":\n",
    "        obs_tvd = tvd(data,missing_col,compare_col)\n",
    "        tvds = []\n",
    "        for _ in range(n_repetitions):\n",
    "\n",
    "            # Shuffling genders and assigning back to the DataFrame\n",
    "            shuffled[compare_col] = np.random.permutation(shuffled[compare_col])\n",
    "            tvds.append(tvd(shuffled,missing_col,compare_col))\n",
    "        pval = np.mean(np.array(tvds) >= obs_tvd)\n",
    "        return pval"
   ]
  },
  {
   "cell_type": "code",
   "execution_count": 12,
   "id": "ae0d9e1b",
   "metadata": {},
   "outputs": [
    {
     "data": {
      "text/html": [
       "<div>\n",
       "<style scoped>\n",
       "    .dataframe tbody tr th:only-of-type {\n",
       "        vertical-align: middle;\n",
       "    }\n",
       "\n",
       "    .dataframe tbody tr th {\n",
       "        vertical-align: top;\n",
       "    }\n",
       "\n",
       "    .dataframe thead th {\n",
       "        text-align: right;\n",
       "    }\n",
       "</style>\n",
       "<table border=\"1\" class=\"dataframe\">\n",
       "  <thead>\n",
       "    <tr style=\"text-align: right;\">\n",
       "      <th></th>\n",
       "      <th>0</th>\n",
       "      <th>1</th>\n",
       "    </tr>\n",
       "  </thead>\n",
       "  <tbody>\n",
       "    <tr>\n",
       "      <th>App</th>\n",
       "      <td>0.000000</td>\n",
       "      <td>0</td>\n",
       "    </tr>\n",
       "    <tr>\n",
       "      <th>Category</th>\n",
       "      <td>0.000000</td>\n",
       "      <td>0</td>\n",
       "    </tr>\n",
       "    <tr>\n",
       "      <th>Rating</th>\n",
       "      <td>0.135978</td>\n",
       "      <td>1474</td>\n",
       "    </tr>\n",
       "    <tr>\n",
       "      <th>Reviews</th>\n",
       "      <td>0.000000</td>\n",
       "      <td>0</td>\n",
       "    </tr>\n",
       "    <tr>\n",
       "      <th>Size</th>\n",
       "      <td>0.000000</td>\n",
       "      <td>0</td>\n",
       "    </tr>\n",
       "    <tr>\n",
       "      <th>Installs</th>\n",
       "      <td>0.000000</td>\n",
       "      <td>0</td>\n",
       "    </tr>\n",
       "    <tr>\n",
       "      <th>Type</th>\n",
       "      <td>0.000092</td>\n",
       "      <td>1</td>\n",
       "    </tr>\n",
       "    <tr>\n",
       "      <th>Price</th>\n",
       "      <td>0.000000</td>\n",
       "      <td>0</td>\n",
       "    </tr>\n",
       "    <tr>\n",
       "      <th>Content Rating</th>\n",
       "      <td>0.000000</td>\n",
       "      <td>0</td>\n",
       "    </tr>\n",
       "    <tr>\n",
       "      <th>Genres</th>\n",
       "      <td>0.000000</td>\n",
       "      <td>0</td>\n",
       "    </tr>\n",
       "    <tr>\n",
       "      <th>Last Updated</th>\n",
       "      <td>0.000000</td>\n",
       "      <td>0</td>\n",
       "    </tr>\n",
       "    <tr>\n",
       "      <th>Current Ver</th>\n",
       "      <td>0.000738</td>\n",
       "      <td>8</td>\n",
       "    </tr>\n",
       "    <tr>\n",
       "      <th>Android Ver</th>\n",
       "      <td>0.000185</td>\n",
       "      <td>2</td>\n",
       "    </tr>\n",
       "    <tr>\n",
       "      <th>is_paid</th>\n",
       "      <td>0.000000</td>\n",
       "      <td>0</td>\n",
       "    </tr>\n",
       "  </tbody>\n",
       "</table>\n",
       "</div>"
      ],
      "text/plain": [
       "                       0     1\n",
       "App             0.000000     0\n",
       "Category        0.000000     0\n",
       "Rating          0.135978  1474\n",
       "Reviews         0.000000     0\n",
       "Size            0.000000     0\n",
       "Installs        0.000000     0\n",
       "Type            0.000092     1\n",
       "Price           0.000000     0\n",
       "Content Rating  0.000000     0\n",
       "Genres          0.000000     0\n",
       "Last Updated    0.000000     0\n",
       "Current Ver     0.000738     8\n",
       "Android Ver     0.000185     2\n",
       "is_paid         0.000000     0"
      ]
     },
     "execution_count": 12,
     "metadata": {},
     "output_type": "execute_result"
    }
   ],
   "source": [
    "# column 0 = prop missingness, column 1 = number of missingness\n",
    "pd.concat((ps.isnull().mean(), ps.isnull().sum()), axis=1)"
   ]
  },
  {
   "cell_type": "markdown",
   "id": "9ac164a8",
   "metadata": {},
   "source": [
    "Since Current Ver and Android Ver has too little number of missing values, I think it's only reasonable for students to conduct missingess test on Rating w.r.t other columns"
   ]
  },
  {
   "cell_type": "code",
   "execution_count": 13,
   "id": "f02b5759",
   "metadata": {},
   "outputs": [
    {
     "data": {
      "text/html": [
       "<div>\n",
       "<style scoped>\n",
       "    .dataframe tbody tr th:only-of-type {\n",
       "        vertical-align: middle;\n",
       "    }\n",
       "\n",
       "    .dataframe tbody tr th {\n",
       "        vertical-align: top;\n",
       "    }\n",
       "\n",
       "    .dataframe thead th {\n",
       "        text-align: right;\n",
       "    }\n",
       "</style>\n",
       "<table border=\"1\" class=\"dataframe\">\n",
       "  <thead>\n",
       "    <tr style=\"text-align: right;\">\n",
       "      <th></th>\n",
       "      <th>App</th>\n",
       "      <th>Category</th>\n",
       "      <th>Rating</th>\n",
       "      <th>Reviews</th>\n",
       "      <th>Size</th>\n",
       "      <th>Installs</th>\n",
       "      <th>Type</th>\n",
       "      <th>Price</th>\n",
       "      <th>Content Rating</th>\n",
       "      <th>Genres</th>\n",
       "      <th>Last Updated</th>\n",
       "      <th>Current Ver</th>\n",
       "      <th>Android Ver</th>\n",
       "      <th>is_paid</th>\n",
       "    </tr>\n",
       "  </thead>\n",
       "  <tbody>\n",
       "    <tr>\n",
       "      <th>23</th>\n",
       "      <td>Mcqueen Coloring pages</td>\n",
       "      <td>ART_AND_DESIGN</td>\n",
       "      <td>NaN</td>\n",
       "      <td>61</td>\n",
       "      <td>7.0M</td>\n",
       "      <td>100,000+</td>\n",
       "      <td>Free</td>\n",
       "      <td>0</td>\n",
       "      <td>Everyone</td>\n",
       "      <td>Art &amp; Design;Action &amp; Adventure</td>\n",
       "      <td>March 7, 2018</td>\n",
       "      <td>1.0.0</td>\n",
       "      <td>4.1 and up</td>\n",
       "      <td>True</td>\n",
       "    </tr>\n",
       "    <tr>\n",
       "      <th>113</th>\n",
       "      <td>Wrinkles and rejuvenation</td>\n",
       "      <td>BEAUTY</td>\n",
       "      <td>NaN</td>\n",
       "      <td>182</td>\n",
       "      <td>5.7M</td>\n",
       "      <td>100,000+</td>\n",
       "      <td>Free</td>\n",
       "      <td>0</td>\n",
       "      <td>Everyone 10+</td>\n",
       "      <td>Beauty</td>\n",
       "      <td>September 20, 2017</td>\n",
       "      <td>8.0</td>\n",
       "      <td>3.0 and up</td>\n",
       "      <td>True</td>\n",
       "    </tr>\n",
       "    <tr>\n",
       "      <th>123</th>\n",
       "      <td>Manicure - nail design</td>\n",
       "      <td>BEAUTY</td>\n",
       "      <td>NaN</td>\n",
       "      <td>119</td>\n",
       "      <td>3.7M</td>\n",
       "      <td>50,000+</td>\n",
       "      <td>Free</td>\n",
       "      <td>0</td>\n",
       "      <td>Everyone</td>\n",
       "      <td>Beauty</td>\n",
       "      <td>July 23, 2018</td>\n",
       "      <td>1.3</td>\n",
       "      <td>4.1 and up</td>\n",
       "      <td>True</td>\n",
       "    </tr>\n",
       "    <tr>\n",
       "      <th>126</th>\n",
       "      <td>Skin Care and Natural Beauty</td>\n",
       "      <td>BEAUTY</td>\n",
       "      <td>NaN</td>\n",
       "      <td>654</td>\n",
       "      <td>7.4M</td>\n",
       "      <td>100,000+</td>\n",
       "      <td>Free</td>\n",
       "      <td>0</td>\n",
       "      <td>Teen</td>\n",
       "      <td>Beauty</td>\n",
       "      <td>July 17, 2018</td>\n",
       "      <td>1.15</td>\n",
       "      <td>4.1 and up</td>\n",
       "      <td>True</td>\n",
       "    </tr>\n",
       "    <tr>\n",
       "      <th>129</th>\n",
       "      <td>Secrets of beauty, youth and health</td>\n",
       "      <td>BEAUTY</td>\n",
       "      <td>NaN</td>\n",
       "      <td>77</td>\n",
       "      <td>2.9M</td>\n",
       "      <td>10,000+</td>\n",
       "      <td>Free</td>\n",
       "      <td>0</td>\n",
       "      <td>Mature 17+</td>\n",
       "      <td>Beauty</td>\n",
       "      <td>August 8, 2017</td>\n",
       "      <td>2.0</td>\n",
       "      <td>2.3 and up</td>\n",
       "      <td>True</td>\n",
       "    </tr>\n",
       "  </tbody>\n",
       "</table>\n",
       "</div>"
      ],
      "text/plain": [
       "                                     App        Category  Rating Reviews  \\\n",
       "23                Mcqueen Coloring pages  ART_AND_DESIGN     NaN      61   \n",
       "113            Wrinkles and rejuvenation          BEAUTY     NaN     182   \n",
       "123               Manicure - nail design          BEAUTY     NaN     119   \n",
       "126         Skin Care and Natural Beauty          BEAUTY     NaN     654   \n",
       "129  Secrets of beauty, youth and health          BEAUTY     NaN      77   \n",
       "\n",
       "     Size  Installs  Type Price Content Rating  \\\n",
       "23   7.0M  100,000+  Free     0       Everyone   \n",
       "113  5.7M  100,000+  Free     0   Everyone 10+   \n",
       "123  3.7M   50,000+  Free     0       Everyone   \n",
       "126  7.4M  100,000+  Free     0           Teen   \n",
       "129  2.9M   10,000+  Free     0     Mature 17+   \n",
       "\n",
       "                              Genres        Last Updated Current Ver  \\\n",
       "23   Art & Design;Action & Adventure       March 7, 2018       1.0.0   \n",
       "113                           Beauty  September 20, 2017         8.0   \n",
       "123                           Beauty       July 23, 2018         1.3   \n",
       "126                           Beauty       July 17, 2018        1.15   \n",
       "129                           Beauty      August 8, 2017         2.0   \n",
       "\n",
       "    Android Ver  is_paid  \n",
       "23   4.1 and up     True  \n",
       "113  3.0 and up     True  \n",
       "123  4.1 and up     True  \n",
       "126  4.1 and up     True  \n",
       "129  2.3 and up     True  "
      ]
     },
     "execution_count": 13,
     "metadata": {},
     "output_type": "execute_result"
    }
   ],
   "source": [
    "null_rating = ps[ps['Rating'].isnull()]\n",
    "null_rating.head()"
   ]
  },
  {
   "cell_type": "code",
   "execution_count": 14,
   "id": "aef62838",
   "metadata": {},
   "outputs": [
    {
     "data": {
      "text/plain": [
       "Everyone           0.792227\n",
       "Teen               0.115738\n",
       "Mature 17+         0.049221\n",
       "Everyone 10+       0.042387\n",
       "Adults only 18+    0.000320\n",
       "Unrated            0.000107\n",
       "Name: Content Rating, dtype: float64"
      ]
     },
     "execution_count": 14,
     "metadata": {},
     "output_type": "execute_result"
    }
   ],
   "source": [
    "ps[~ps['Rating'].isnull()]['Content Rating'].value_counts(normalize=True)"
   ]
  },
  {
   "cell_type": "code",
   "execution_count": 15,
   "id": "51cb0255",
   "metadata": {},
   "outputs": [
    {
     "data": {
      "text/plain": [
       "Everyone        0.877883\n",
       "Teen            0.084125\n",
       "Mature 17+      0.025780\n",
       "Everyone 10+    0.011533\n",
       "Unrated         0.000678\n",
       "Name: Content Rating, dtype: float64"
      ]
     },
     "execution_count": 15,
     "metadata": {},
     "output_type": "execute_result"
    }
   ],
   "source": [
    "null_rating['Content Rating'].value_counts(normalize=True)"
   ]
  },
  {
   "cell_type": "code",
   "execution_count": 16,
   "id": "030c097c",
   "metadata": {},
   "outputs": [
    {
     "data": {
      "text/plain": [
       "0.0"
      ]
     },
     "execution_count": 16,
     "metadata": {},
     "output_type": "execute_result"
    }
   ],
   "source": [
    "# Can see that Rating is dependent with Content Rating\n",
    "# This kind of makes sense if we think from the angle that people are not likely to rate mature 17+ \n",
    "# apps since I think reviewing an app is public?\n",
    "\n",
    "assess_missingness(ps, \"Rating\", \"Content Rating\")"
   ]
  },
  {
   "cell_type": "code",
   "execution_count": 17,
   "id": "e23e3fc8",
   "metadata": {},
   "outputs": [
    {
     "name": "stderr",
     "output_type": "stream",
     "text": [
      "/var/folders/42/7620rj0s40l61g76z97k379m0000gn/T/ipykernel_41760/1338718845.py:2: FutureWarning: The default value of regex will change from True to False in a future version. In addition, single character regular expressions will *not* be treated as literal strings when regex=True.\n",
      "  ps['Price_cleaned'] = ps.Price.str.replace('$', '').astype(float)\n"
     ]
    }
   ],
   "source": [
    "ps['Reviews_cleaned'] = ps['Reviews'].astype(int)\n",
    "ps['Price_cleaned'] = ps.Price.str.replace('$', '').astype(float)"
   ]
  },
  {
   "cell_type": "code",
   "execution_count": 18,
   "id": "f0169e22",
   "metadata": {},
   "outputs": [
    {
     "data": {
      "text/plain": [
       "0.09039202263327122"
      ]
     },
     "execution_count": 18,
     "metadata": {},
     "output_type": "execute_result"
    }
   ],
   "source": [
    "# Can see that Rating is likely not dependent with the price depending on level of alpha one would choose. \n",
    "# Note that I did go through all the other variables and I couldn't find one that is clearly MCAR (p-value that is very high)\n",
    "assess_missingness(ps, \"Rating\", \"Price_cleaned\", stat='ks')"
   ]
  },
  {
   "cell_type": "markdown",
   "id": "4459433a",
   "metadata": {},
   "source": [
    "## Hypothesis Test \n",
    "Sample questions may include\n",
    "1. Do apps with more than 1 million installs have better ratings?\n",
    "2. Do paid apps have higher Rating on average?\n",
    "3. Is the distributions of Category the same between Free and Paid apps?"
   ]
  },
  {
   "cell_type": "code",
   "execution_count": 19,
   "id": "544f201f",
   "metadata": {},
   "outputs": [
    {
     "data": {
      "text/html": [
       "<div>\n",
       "<style scoped>\n",
       "    .dataframe tbody tr th:only-of-type {\n",
       "        vertical-align: middle;\n",
       "    }\n",
       "\n",
       "    .dataframe tbody tr th {\n",
       "        vertical-align: top;\n",
       "    }\n",
       "\n",
       "    .dataframe thead th {\n",
       "        text-align: right;\n",
       "    }\n",
       "</style>\n",
       "<table border=\"1\" class=\"dataframe\">\n",
       "  <thead>\n",
       "    <tr style=\"text-align: right;\">\n",
       "      <th>Category</th>\n",
       "      <th>ART_AND_DESIGN</th>\n",
       "      <th>AUTO_AND_VEHICLES</th>\n",
       "      <th>BEAUTY</th>\n",
       "      <th>BOOKS_AND_REFERENCE</th>\n",
       "      <th>BUSINESS</th>\n",
       "      <th>COMICS</th>\n",
       "      <th>COMMUNICATION</th>\n",
       "      <th>DATING</th>\n",
       "      <th>EDUCATION</th>\n",
       "      <th>ENTERTAINMENT</th>\n",
       "      <th>...</th>\n",
       "      <th>PERSONALIZATION</th>\n",
       "      <th>PHOTOGRAPHY</th>\n",
       "      <th>PRODUCTIVITY</th>\n",
       "      <th>SHOPPING</th>\n",
       "      <th>SOCIAL</th>\n",
       "      <th>SPORTS</th>\n",
       "      <th>TOOLS</th>\n",
       "      <th>TRAVEL_AND_LOCAL</th>\n",
       "      <th>VIDEO_PLAYERS</th>\n",
       "      <th>WEATHER</th>\n",
       "    </tr>\n",
       "    <tr>\n",
       "      <th>is_paid</th>\n",
       "      <th></th>\n",
       "      <th></th>\n",
       "      <th></th>\n",
       "      <th></th>\n",
       "      <th></th>\n",
       "      <th></th>\n",
       "      <th></th>\n",
       "      <th></th>\n",
       "      <th></th>\n",
       "      <th></th>\n",
       "      <th></th>\n",
       "      <th></th>\n",
       "      <th></th>\n",
       "      <th></th>\n",
       "      <th></th>\n",
       "      <th></th>\n",
       "      <th></th>\n",
       "      <th></th>\n",
       "      <th></th>\n",
       "      <th></th>\n",
       "      <th></th>\n",
       "    </tr>\n",
       "  </thead>\n",
       "  <tbody>\n",
       "    <tr>\n",
       "      <th>False</th>\n",
       "      <td>0.003750</td>\n",
       "      <td>0.003750</td>\n",
       "      <td>0.000000</td>\n",
       "      <td>0.035000</td>\n",
       "      <td>0.017500</td>\n",
       "      <td>0.000000</td>\n",
       "      <td>0.033750</td>\n",
       "      <td>0.00875</td>\n",
       "      <td>0.005000</td>\n",
       "      <td>0.002500</td>\n",
       "      <td>...</td>\n",
       "      <td>0.103750</td>\n",
       "      <td>0.027500</td>\n",
       "      <td>0.035000</td>\n",
       "      <td>0.002500</td>\n",
       "      <td>0.003750</td>\n",
       "      <td>0.030000</td>\n",
       "      <td>0.097500</td>\n",
       "      <td>0.015000</td>\n",
       "      <td>0.005000</td>\n",
       "      <td>0.010000</td>\n",
       "    </tr>\n",
       "    <tr>\n",
       "      <th>True</th>\n",
       "      <td>0.006175</td>\n",
       "      <td>0.008167</td>\n",
       "      <td>0.005279</td>\n",
       "      <td>0.020219</td>\n",
       "      <td>0.044422</td>\n",
       "      <td>0.005976</td>\n",
       "      <td>0.035857</td>\n",
       "      <td>0.02261</td>\n",
       "      <td>0.015139</td>\n",
       "      <td>0.014641</td>\n",
       "      <td>...</td>\n",
       "      <td>0.030777</td>\n",
       "      <td>0.031175</td>\n",
       "      <td>0.039442</td>\n",
       "      <td>0.025697</td>\n",
       "      <td>0.029084</td>\n",
       "      <td>0.035857</td>\n",
       "      <td>0.076195</td>\n",
       "      <td>0.024502</td>\n",
       "      <td>0.017032</td>\n",
       "      <td>0.007371</td>\n",
       "    </tr>\n",
       "  </tbody>\n",
       "</table>\n",
       "<p>2 rows × 33 columns</p>\n",
       "</div>"
      ],
      "text/plain": [
       "Category  ART_AND_DESIGN  AUTO_AND_VEHICLES    BEAUTY  BOOKS_AND_REFERENCE  \\\n",
       "is_paid                                                                      \n",
       "False           0.003750           0.003750  0.000000             0.035000   \n",
       "True            0.006175           0.008167  0.005279             0.020219   \n",
       "\n",
       "Category  BUSINESS    COMICS  COMMUNICATION   DATING  EDUCATION  \\\n",
       "is_paid                                                           \n",
       "False     0.017500  0.000000       0.033750  0.00875   0.005000   \n",
       "True      0.044422  0.005976       0.035857  0.02261   0.015139   \n",
       "\n",
       "Category  ENTERTAINMENT  ...  PERSONALIZATION  PHOTOGRAPHY  PRODUCTIVITY  \\\n",
       "is_paid                  ...                                               \n",
       "False          0.002500  ...         0.103750     0.027500      0.035000   \n",
       "True           0.014641  ...         0.030777     0.031175      0.039442   \n",
       "\n",
       "Category  SHOPPING    SOCIAL    SPORTS     TOOLS  TRAVEL_AND_LOCAL  \\\n",
       "is_paid                                                              \n",
       "False     0.002500  0.003750  0.030000  0.097500          0.015000   \n",
       "True      0.025697  0.029084  0.035857  0.076195          0.024502   \n",
       "\n",
       "Category  VIDEO_PLAYERS   WEATHER  \n",
       "is_paid                            \n",
       "False          0.005000  0.010000  \n",
       "True           0.017032  0.007371  \n",
       "\n",
       "[2 rows x 33 columns]"
      ]
     },
     "execution_count": 19,
     "metadata": {},
     "output_type": "execute_result"
    }
   ],
   "source": [
    "test_pivot = ps.pivot_table(index='is_paid', columns='Category', aggfunc='size', fill_value=0)\n",
    "norm_pivot = test_pivot.apply(lambda x: x / x.sum(), axis=1)\n",
    "norm_pivot"
   ]
  },
  {
   "cell_type": "code",
   "execution_count": 21,
   "id": "9f3994cb",
   "metadata": {},
   "outputs": [
    {
     "data": {
      "text/plain": [
       "<AxesSubplot:ylabel='Category'>"
      ]
     },
     "execution_count": 21,
     "metadata": {},
     "output_type": "execute_result"
    },
    {
     "data": {
      "image/png": "[encoded data removed]",
      "text/plain": [
       "<Figure size 640x480 with 1 Axes>"
      ]
     },
     "metadata": {},
     "output_type": "display_data"
    }
   ],
   "source": [
    "# below is plot of the distribution based on the first 10 categories\n",
    "norm_pivot.iloc[:,:10].T.plot(kind='barh')\n"
   ]
  },
  {
   "cell_type": "code",
   "execution_count": 22,
   "id": "f2517d2c",
   "metadata": {},
   "outputs": [],
   "source": [
    "def tvd_stat(df):\n",
    "    ''' computes tvd based on number of observations split on states between cause_categoryies'''\n",
    "    pivot = df.pivot_table(index='is_paid', columns='Category', aggfunc='size', fill_value=0)\n",
    "    norm_pivot = pivot.apply(lambda x: x / x.sum(), axis=1)\n",
    "    tvd = norm_pivot.diff().abs().iloc[-1].sum() / 2\n",
    "    return tvd"
   ]
  },
  {
   "cell_type": "code",
   "execution_count": 23,
   "id": "0803c70f",
   "metadata": {},
   "outputs": [
    {
     "data": {
      "text/plain": [
       "0.2740388446215139"
      ]
     },
     "execution_count": 23,
     "metadata": {},
     "output_type": "execute_result"
    }
   ],
   "source": [
    "obs = tvd_stat(ps)\n",
    "obs\n"
   ]
  },
  {
   "cell_type": "code",
   "execution_count": 24,
   "id": "eb2e8f2d",
   "metadata": {},
   "outputs": [
    {
     "data": {
      "text/plain": [
       "0.0"
      ]
     },
     "execution_count": 24,
     "metadata": {},
     "output_type": "execute_result"
    }
   ],
   "source": [
    "trials = 1000\n",
    "shuffled = ps.copy()\n",
    "tvds = []\n",
    "for _ in range(trials):\n",
    "    shuffled_col = ps['is_paid'].sample(frac=1, replace=False).reset_index(drop=True)\n",
    "    \n",
    "    shuffled['is_paid'] = shuffled_col\n",
    "\n",
    "    tvd = tvd_stat(shuffled)\n",
    "    tvds.append(tvd)\n",
    "    \n",
    "p_value = (tvds >= obs).mean()\n",
    "p_value"
   ]
  },
  {
   "cell_type": "code",
   "execution_count": 25,
   "id": "1488e33e",
   "metadata": {},
   "outputs": [
    {
     "data": {
      "image/png": "[encoded data removed]",
      "text/plain": [
       "<Figure size 640x480 with 1 Axes>"
      ]
     },
     "metadata": {},
     "output_type": "display_data"
    }
   ],
   "source": [
    "plt.hist(tvds)\n",
    "plt.xlabel('hello')\n",
    "plt.ylabel('occurences')\n",
    "plt.title('distribution of tvd assuming the null hypothesis is true')\n",
    "plt.scatter(obs, 0, color='red', s=30, label='observed tvd statistic')\n",
    "plt.legend();"
   ]
  },
  {
   "cell_type": "markdown",
   "id": "c1a48e2e",
   "metadata": {},
   "source": [
    "The analysis the students come up with would probably be a lot more interesting than this since they would probably be looking at \"among popular apps, do paid / free ones have same distribution of categories?\" Then they would involve some type of qualitative analysis on how to determine what's popular which they may need to do some research beyond the dataset"
   ]
  },
  {
   "cell_type": "markdown",
   "id": "ce6e28a7",
   "metadata": {},
   "source": [
    "## Concern\n",
    "I think my main concern with the dataset is that it doesn't really have that many columns that are very informative. Essentially there are really only 9 interesting columns and I'm not sure if that's too little for the class as I remember outages and NYPD datasets are more complex and perhaps can be a lot more rich in analysis due to various questions that can be asked"
   ]
  },
  {
   "cell_type": "markdown",
   "id": "26797846",
   "metadata": {},
   "source": [
    "On the other hand, I think students can then focus on what are interesting aggregates to make their analysis meaningful, such as determining meaningful ways to bin current columns, and how the numerical columns may be numerical but really could be categorical due to the data generating process and how pricing on apps are very step-funciton like. They can also think about how to filter apps that aren't necessarily representative of Ratings / user base such as apps that are in 'niche' categories or apps that are not 'popular'"
   ]
  },
  {
   "cell_type": "markdown",
   "id": "431e6261",
   "metadata": {},
   "source": [
    "## Project 5 \n"
   ]
  },
  {
   "cell_type": "markdown",
   "id": "3430da55",
   "metadata": {},
   "source": [
    "### Ones that should probably result in decent performing models\n",
    "1. Predict Rating\n",
    "2. Predict Category of App \n",
    "3. Predictice Price\n",
    "\n",
    "\n",
    "\n"
   ]
  },
  {
   "cell_type": "markdown",
   "id": "4c5d81ed",
   "metadata": {},
   "source": [
    "### Ones that probably result in bad/not high performing models\n",
    "1. Predicting # of Reviews (too granular and not enough other numerical columns)\n",
    "2. Predicting Android Vers. of the app\n",
    "3. Predicting when app was last updated"
   ]
  },
  {
   "cell_type": "code",
   "execution_count": 27,
   "id": "c66663ff",
   "metadata": {},
   "outputs": [
    {
     "data": {
      "text/plain": [
       "Free    10039\n",
       "Paid      800\n",
       "Name: Type, dtype: int64"
      ]
     },
     "execution_count": 27,
     "metadata": {},
     "output_type": "execute_result"
    }
   ],
   "source": [
    "ps.Type.value_counts()"
   ]
  },
  {
   "cell_type": "code",
   "execution_count": null,
   "id": "febc6353",
   "metadata": {},
   "outputs": [],
   "source": []
  }
 ],
 "metadata": {
  "kernelspec": {
   "display_name": "Python 3 (ipykernel)",
   "language": "python",
   "name": "python3"
  },
  "language_info": {
   "codemirror_mode": {
    "name": "ipython",
    "version": 3
   },
   "file_extension": ".py",
   "mimetype": "text/x-python",
   "name": "python",
   "nbconvert_exporter": "python",
   "pygments_lexer": "ipython3",
   "version": "3.8.13"
  }
 },
 "nbformat": 4,
 "nbformat_minor": 5
}
