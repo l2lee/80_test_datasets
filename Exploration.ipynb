{
 "cells": [
  {
   "cell_type": "code",
   "execution_count": 25,
   "id": "6f738b18",
   "metadata": {},
   "outputs": [],
   "source": [
    "import pandas as pd\n",
    "import numpy as np\n",
    "import seaborn as sns\n",
    "import os\n",
    "from scipy.stats import ks_2samp"
   ]
  },
  {
   "cell_type": "code",
   "execution_count": 6,
   "id": "0fc6ab94",
   "metadata": {},
   "outputs": [],
   "source": [
    "books_dataset = 'final_book_dataset_kaggle.csv'"
   ]
  },
  {
   "cell_type": "code",
   "execution_count": 7,
   "id": "13ba928c",
   "metadata": {},
   "outputs": [
    {
     "data": {
      "text/html": [
       "<div>\n",
       "<style scoped>\n",
       "    .dataframe tbody tr th:only-of-type {\n",
       "        vertical-align: middle;\n",
       "    }\n",
       "\n",
       "    .dataframe tbody tr th {\n",
       "        vertical-align: top;\n",
       "    }\n",
       "\n",
       "    .dataframe thead th {\n",
       "        text-align: right;\n",
       "    }\n",
       "</style>\n",
       "<table border=\"1\" class=\"dataframe\">\n",
       "  <thead>\n",
       "    <tr style=\"text-align: right;\">\n",
       "      <th></th>\n",
       "      <th>title</th>\n",
       "      <th>author</th>\n",
       "      <th>price</th>\n",
       "      <th>pages</th>\n",
       "      <th>avg_reviews</th>\n",
       "      <th>n_reviews</th>\n",
       "      <th>star5</th>\n",
       "      <th>star4</th>\n",
       "      <th>star3</th>\n",
       "      <th>star2</th>\n",
       "      <th>star1</th>\n",
       "      <th>dimensions</th>\n",
       "      <th>weight</th>\n",
       "      <th>language</th>\n",
       "      <th>publisher</th>\n",
       "      <th>ISBN_13</th>\n",
       "      <th>link</th>\n",
       "      <th>complete_link</th>\n",
       "    </tr>\n",
       "  </thead>\n",
       "  <tbody>\n",
       "    <tr>\n",
       "      <th>0</th>\n",
       "      <td>Becoming a Data Head: How to Think Speak and U...</td>\n",
       "      <td>[Alex J. Gutman,Jordan Goldmeier]</td>\n",
       "      <td>24.49</td>\n",
       "      <td>272.0</td>\n",
       "      <td>4.6</td>\n",
       "      <td>184</td>\n",
       "      <td>0.74</td>\n",
       "      <td>0.18</td>\n",
       "      <td>0.05</td>\n",
       "      <td>0.02</td>\n",
       "      <td>0.01</td>\n",
       "      <td>6 x 0.62 x 9 inches</td>\n",
       "      <td>12.5 ounces</td>\n",
       "      <td>English</td>\n",
       "      <td>Wiley; 1st edition (April 23 2021)</td>\n",
       "      <td>978-1119741749</td>\n",
       "      <td>/Becoming-Data-Head-Understand-Statistics/dp/1...</td>\n",
       "      <td>https://www.amazon.com/Becoming-Data-Head-Unde...</td>\n",
       "    </tr>\n",
       "    <tr>\n",
       "      <th>1</th>\n",
       "      <td>Ace the Data Science Interview: 201 Real Inter...</td>\n",
       "      <td>[Nick Singh,Kevin Huo]</td>\n",
       "      <td>26.00</td>\n",
       "      <td>301.0</td>\n",
       "      <td>4.5</td>\n",
       "      <td>599</td>\n",
       "      <td>0.77</td>\n",
       "      <td>0.10</td>\n",
       "      <td>0.06</td>\n",
       "      <td>0.03</td>\n",
       "      <td>0.04</td>\n",
       "      <td>7 x 0.68 x 10 inches</td>\n",
       "      <td>1.28 pounds</td>\n",
       "      <td>English</td>\n",
       "      <td>Ace the Data Science Interview (August 16 2021)</td>\n",
       "      <td>978-0578973838</td>\n",
       "      <td>/Ace-Data-Science-Interview-Questions/dp/05789...</td>\n",
       "      <td>https://www.amazon.com/Ace-Data-Science-Interv...</td>\n",
       "    </tr>\n",
       "    <tr>\n",
       "      <th>2</th>\n",
       "      <td>Fundamentals of Data Engineering: Plan and Bui...</td>\n",
       "      <td>[Joe Reis,Matt Housley]</td>\n",
       "      <td>50.76</td>\n",
       "      <td>446.0</td>\n",
       "      <td>5.0</td>\n",
       "      <td>33</td>\n",
       "      <td>0.96</td>\n",
       "      <td>0.04</td>\n",
       "      <td>0.00</td>\n",
       "      <td>0.00</td>\n",
       "      <td>0.00</td>\n",
       "      <td>7 x 1 x 9.25 inches</td>\n",
       "      <td>1.57 pounds</td>\n",
       "      <td>English</td>\n",
       "      <td>OReilly Media; 1st edition (July 26 2022)</td>\n",
       "      <td>978-1098108304</td>\n",
       "      <td>/Fundamentals-Data-Engineering-Robust-Systems/...</td>\n",
       "      <td>https://www.amazon.com/Fundamentals-Data-Engin...</td>\n",
       "    </tr>\n",
       "    <tr>\n",
       "      <th>3</th>\n",
       "      <td>Essential Math for Data Science: Take Control ...</td>\n",
       "      <td>[Thomas Nield]</td>\n",
       "      <td>44.80</td>\n",
       "      <td>347.0</td>\n",
       "      <td>4.5</td>\n",
       "      <td>27</td>\n",
       "      <td>0.79</td>\n",
       "      <td>0.05</td>\n",
       "      <td>0.05</td>\n",
       "      <td>0.05</td>\n",
       "      <td>0.05</td>\n",
       "      <td>7 x 0.75 x 9 inches</td>\n",
       "      <td>1.23 pounds</td>\n",
       "      <td>English</td>\n",
       "      <td>OReilly Media; 1st edition (July 5 2022)</td>\n",
       "      <td>978-1098102937</td>\n",
       "      <td>/Essential-Math-Data-Science-Fundamental/dp/10...</td>\n",
       "      <td>https://www.amazon.com/Essential-Math-Data-Sci...</td>\n",
       "    </tr>\n",
       "    <tr>\n",
       "      <th>4</th>\n",
       "      <td>Data Science for Business: What You Need to Kn...</td>\n",
       "      <td>[Foster Provost,Tom Fawcett]</td>\n",
       "      <td>36.99</td>\n",
       "      <td>413.0</td>\n",
       "      <td>4.5</td>\n",
       "      <td>970</td>\n",
       "      <td>0.71</td>\n",
       "      <td>0.15</td>\n",
       "      <td>0.08</td>\n",
       "      <td>0.03</td>\n",
       "      <td>0.03</td>\n",
       "      <td>7 x 0.9 x 9.19 inches</td>\n",
       "      <td>1.5 pounds</td>\n",
       "      <td>English</td>\n",
       "      <td>OReilly Media; 1st edition (September 17 2013)</td>\n",
       "      <td>978-1449361327</td>\n",
       "      <td>/Data-Science-Business-Data-Analytic-Thinking/...</td>\n",
       "      <td>https://www.amazon.com/Data-Science-Business-D...</td>\n",
       "    </tr>\n",
       "  </tbody>\n",
       "</table>\n",
       "</div>"
      ],
      "text/plain": [
       "                                               title  \\\n",
       "0  Becoming a Data Head: How to Think Speak and U...   \n",
       "1  Ace the Data Science Interview: 201 Real Inter...   \n",
       "2  Fundamentals of Data Engineering: Plan and Bui...   \n",
       "3  Essential Math for Data Science: Take Control ...   \n",
       "4  Data Science for Business: What You Need to Kn...   \n",
       "\n",
       "                              author  price  pages  avg_reviews  n_reviews  \\\n",
       "0  [Alex J. Gutman,Jordan Goldmeier]  24.49  272.0          4.6        184   \n",
       "1             [Nick Singh,Kevin Huo]  26.00  301.0          4.5        599   \n",
       "2            [Joe Reis,Matt Housley]  50.76  446.0          5.0         33   \n",
       "3                     [Thomas Nield]  44.80  347.0          4.5         27   \n",
       "4       [Foster Provost,Tom Fawcett]  36.99  413.0          4.5        970   \n",
       "\n",
       "   star5  star4  star3  star2  star1             dimensions       weight  \\\n",
       "0   0.74   0.18   0.05   0.02   0.01    6 x 0.62 x 9 inches  12.5 ounces   \n",
       "1   0.77   0.10   0.06   0.03   0.04   7 x 0.68 x 10 inches  1.28 pounds   \n",
       "2   0.96   0.04   0.00   0.00   0.00    7 x 1 x 9.25 inches  1.57 pounds   \n",
       "3   0.79   0.05   0.05   0.05   0.05    7 x 0.75 x 9 inches  1.23 pounds   \n",
       "4   0.71   0.15   0.08   0.03   0.03  7 x 0.9 x 9.19 inches   1.5 pounds   \n",
       "\n",
       "  language                                        publisher         ISBN_13  \\\n",
       "0  English               Wiley; 1st edition (April 23 2021)  978-1119741749   \n",
       "1  English  Ace the Data Science Interview (August 16 2021)  978-0578973838   \n",
       "2  English        OReilly Media; 1st edition (July 26 2022)  978-1098108304   \n",
       "3  English         OReilly Media; 1st edition (July 5 2022)  978-1098102937   \n",
       "4  English   OReilly Media; 1st edition (September 17 2013)  978-1449361327   \n",
       "\n",
       "                                                link  \\\n",
       "0  /Becoming-Data-Head-Understand-Statistics/dp/1...   \n",
       "1  /Ace-Data-Science-Interview-Questions/dp/05789...   \n",
       "2  /Fundamentals-Data-Engineering-Robust-Systems/...   \n",
       "3  /Essential-Math-Data-Science-Fundamental/dp/10...   \n",
       "4  /Data-Science-Business-Data-Analytic-Thinking/...   \n",
       "\n",
       "                                       complete_link  \n",
       "0  https://www.amazon.com/Becoming-Data-Head-Unde...  \n",
       "1  https://www.amazon.com/Ace-Data-Science-Interv...  \n",
       "2  https://www.amazon.com/Fundamentals-Data-Engin...  \n",
       "3  https://www.amazon.com/Essential-Math-Data-Sci...  \n",
       "4  https://www.amazon.com/Data-Science-Business-D...  "
      ]
     },
     "execution_count": 7,
     "metadata": {},
     "output_type": "execute_result"
    }
   ],
   "source": [
    "books = pd.read_csv(books_dataset)\n",
    "books.head()"
   ]
  },
  {
   "cell_type": "code",
   "execution_count": 8,
   "id": "faaeef20",
   "metadata": {},
   "outputs": [
    {
     "data": {
      "text/plain": [
       "title            0.000000\n",
       "author           0.128964\n",
       "price            0.002114\n",
       "pages            0.012685\n",
       "avg_reviews      0.130021\n",
       "n_reviews        0.000000\n",
       "star5            0.000000\n",
       "star4            0.000000\n",
       "star3            0.000000\n",
       "star2            0.000000\n",
       "star1            0.000000\n",
       "dimensions       0.033827\n",
       "weight           0.003171\n",
       "language         0.003171\n",
       "publisher        0.004228\n",
       "ISBN_13          0.001057\n",
       "link             0.000000\n",
       "complete_link    0.000000\n",
       "dtype: float64"
      ]
     },
     "execution_count": 8,
     "metadata": {},
     "output_type": "execute_result"
    }
   ],
   "source": [
    "books.isnull().mean()"
   ]
  },
  {
   "cell_type": "code",
   "execution_count": 27,
   "id": "a288c263",
   "metadata": {},
   "outputs": [],
   "source": [
    " def ks_test(data,missing_col,compare_col):\n",
    "        null = df.copy()\n",
    "        null['is_null'] = df[col_null].isnull()\n",
    "        missing_data = data.loc[data[missing_col],compare_col]\n",
    "        nonmissing_data = data.loc[~data[missing_col],compare_col]\n",
    "        return ks_2samp(missing_data, nonmissing_data).pvalue"
   ]
  },
  {
   "cell_type": "code",
   "execution_count": 9,
   "id": "175499db",
   "metadata": {},
   "outputs": [],
   "source": [
    "def tvd_by_col(df, col): \n",
    "    ''' calculates the given tvd based on column name, requires is_null column '''\n",
    "    pivot = df.pivot_table(index='is_null', columns=col,\n",
    "                           aggfunc='size', fill_value=0)\n",
    "    pivot_norm = pivot.apply(lambda x: x / x.sum(), axis=1)\n",
    "\n",
    "    tvd = pivot_norm.diff().abs().iloc[-1].sum() / 2\n",
    "    return tvd"
   ]
  },
  {
   "cell_type": "code",
   "execution_count": 10,
   "id": "7cdf759b",
   "metadata": {},
   "outputs": [],
   "source": [
    "def missingness_ptest(df, col_null, col_sus):\n",
    "    ''' \n",
    "    computes a permutation of missingness on col_null in regards to col_sus\n",
    "    Returns the observed and p-value in tuple\n",
    "    '''\n",
    "    \n",
    "    null = df.copy()\n",
    "    null['is_null'] = df[col_null].isnull()\n",
    "    \n",
    "    obs = tvd_by_col(null, col_sus)\n",
    "    \n",
    "    shuffled = null.copy()\n",
    "    tvds = []\n",
    "    \n",
    "    trials = 1000\n",
    "    for _ in range(trials):\n",
    "        shuffled_col = null[col_sus].sample(replace=False, frac=1).reset_index(drop=True)\n",
    "        \n",
    "        shuffled[col_sus] = shuffled_col\n",
    "        \n",
    "        tvd = tvd_by_col(shuffled, col_sus)\n",
    "        tvds.append(tvd)\n",
    "    \n",
    "    p_value = (tvds >= obs).mean()\n",
    "    \n",
    "    return obs, p_value, tvds"
   ]
  },
  {
   "cell_type": "code",
   "execution_count": 11,
   "id": "12a9751e",
   "metadata": {},
   "outputs": [],
   "source": [
    "ps = pd.read_csv('googleplaystore.csv')"
   ]
  },
  {
   "cell_type": "code",
   "execution_count": 12,
   "id": "1706a461",
   "metadata": {},
   "outputs": [
    {
     "data": {
      "text/html": [
       "<div>\n",
       "<style scoped>\n",
       "    .dataframe tbody tr th:only-of-type {\n",
       "        vertical-align: middle;\n",
       "    }\n",
       "\n",
       "    .dataframe tbody tr th {\n",
       "        vertical-align: top;\n",
       "    }\n",
       "\n",
       "    .dataframe thead th {\n",
       "        text-align: right;\n",
       "    }\n",
       "</style>\n",
       "<table border=\"1\" class=\"dataframe\">\n",
       "  <thead>\n",
       "    <tr style=\"text-align: right;\">\n",
       "      <th></th>\n",
       "      <th>App</th>\n",
       "      <th>Category</th>\n",
       "      <th>Rating</th>\n",
       "      <th>Reviews</th>\n",
       "      <th>Size</th>\n",
       "      <th>Installs</th>\n",
       "      <th>Type</th>\n",
       "      <th>Price</th>\n",
       "      <th>Content Rating</th>\n",
       "      <th>Genres</th>\n",
       "      <th>Last Updated</th>\n",
       "      <th>Current Ver</th>\n",
       "      <th>Android Ver</th>\n",
       "    </tr>\n",
       "  </thead>\n",
       "  <tbody>\n",
       "    <tr>\n",
       "      <th>0</th>\n",
       "      <td>Photo Editor &amp; Candy Camera &amp; Grid &amp; ScrapBook</td>\n",
       "      <td>ART_AND_DESIGN</td>\n",
       "      <td>4.1</td>\n",
       "      <td>159</td>\n",
       "      <td>19M</td>\n",
       "      <td>10,000+</td>\n",
       "      <td>Free</td>\n",
       "      <td>0</td>\n",
       "      <td>Everyone</td>\n",
       "      <td>Art &amp; Design</td>\n",
       "      <td>January 7, 2018</td>\n",
       "      <td>1.0.0</td>\n",
       "      <td>4.0.3 and up</td>\n",
       "    </tr>\n",
       "    <tr>\n",
       "      <th>1</th>\n",
       "      <td>Coloring book moana</td>\n",
       "      <td>ART_AND_DESIGN</td>\n",
       "      <td>3.9</td>\n",
       "      <td>967</td>\n",
       "      <td>14M</td>\n",
       "      <td>500,000+</td>\n",
       "      <td>Free</td>\n",
       "      <td>0</td>\n",
       "      <td>Everyone</td>\n",
       "      <td>Art &amp; Design;Pretend Play</td>\n",
       "      <td>January 15, 2018</td>\n",
       "      <td>2.0.0</td>\n",
       "      <td>4.0.3 and up</td>\n",
       "    </tr>\n",
       "    <tr>\n",
       "      <th>2</th>\n",
       "      <td>U Launcher Lite – FREE Live Cool Themes, Hide ...</td>\n",
       "      <td>ART_AND_DESIGN</td>\n",
       "      <td>4.7</td>\n",
       "      <td>87510</td>\n",
       "      <td>8.7M</td>\n",
       "      <td>5,000,000+</td>\n",
       "      <td>Free</td>\n",
       "      <td>0</td>\n",
       "      <td>Everyone</td>\n",
       "      <td>Art &amp; Design</td>\n",
       "      <td>August 1, 2018</td>\n",
       "      <td>1.2.4</td>\n",
       "      <td>4.0.3 and up</td>\n",
       "    </tr>\n",
       "    <tr>\n",
       "      <th>3</th>\n",
       "      <td>Sketch - Draw &amp; Paint</td>\n",
       "      <td>ART_AND_DESIGN</td>\n",
       "      <td>4.5</td>\n",
       "      <td>215644</td>\n",
       "      <td>25M</td>\n",
       "      <td>50,000,000+</td>\n",
       "      <td>Free</td>\n",
       "      <td>0</td>\n",
       "      <td>Teen</td>\n",
       "      <td>Art &amp; Design</td>\n",
       "      <td>June 8, 2018</td>\n",
       "      <td>Varies with device</td>\n",
       "      <td>4.2 and up</td>\n",
       "    </tr>\n",
       "    <tr>\n",
       "      <th>4</th>\n",
       "      <td>Pixel Draw - Number Art Coloring Book</td>\n",
       "      <td>ART_AND_DESIGN</td>\n",
       "      <td>4.3</td>\n",
       "      <td>967</td>\n",
       "      <td>2.8M</td>\n",
       "      <td>100,000+</td>\n",
       "      <td>Free</td>\n",
       "      <td>0</td>\n",
       "      <td>Everyone</td>\n",
       "      <td>Art &amp; Design;Creativity</td>\n",
       "      <td>June 20, 2018</td>\n",
       "      <td>1.1</td>\n",
       "      <td>4.4 and up</td>\n",
       "    </tr>\n",
       "  </tbody>\n",
       "</table>\n",
       "</div>"
      ],
      "text/plain": [
       "                                                 App        Category  Rating  \\\n",
       "0     Photo Editor & Candy Camera & Grid & ScrapBook  ART_AND_DESIGN     4.1   \n",
       "1                                Coloring book moana  ART_AND_DESIGN     3.9   \n",
       "2  U Launcher Lite – FREE Live Cool Themes, Hide ...  ART_AND_DESIGN     4.7   \n",
       "3                              Sketch - Draw & Paint  ART_AND_DESIGN     4.5   \n",
       "4              Pixel Draw - Number Art Coloring Book  ART_AND_DESIGN     4.3   \n",
       "\n",
       "  Reviews  Size     Installs  Type Price Content Rating  \\\n",
       "0     159   19M      10,000+  Free     0       Everyone   \n",
       "1     967   14M     500,000+  Free     0       Everyone   \n",
       "2   87510  8.7M   5,000,000+  Free     0       Everyone   \n",
       "3  215644   25M  50,000,000+  Free     0           Teen   \n",
       "4     967  2.8M     100,000+  Free     0       Everyone   \n",
       "\n",
       "                      Genres      Last Updated         Current Ver  \\\n",
       "0               Art & Design   January 7, 2018               1.0.0   \n",
       "1  Art & Design;Pretend Play  January 15, 2018               2.0.0   \n",
       "2               Art & Design    August 1, 2018               1.2.4   \n",
       "3               Art & Design      June 8, 2018  Varies with device   \n",
       "4    Art & Design;Creativity     June 20, 2018                 1.1   \n",
       "\n",
       "    Android Ver  \n",
       "0  4.0.3 and up  \n",
       "1  4.0.3 and up  \n",
       "2  4.0.3 and up  \n",
       "3    4.2 and up  \n",
       "4    4.4 and up  "
      ]
     },
     "execution_count": 12,
     "metadata": {},
     "output_type": "execute_result"
    }
   ],
   "source": [
    "ps.head()"
   ]
  },
  {
   "cell_type": "code",
   "execution_count": 30,
   "id": "bbf729f3",
   "metadata": {},
   "outputs": [
    {
     "name": "stdout",
     "output_type": "stream",
     "text": [
      "<class 'pandas.core.frame.DataFrame'>\n",
      "RangeIndex: 10841 entries, 0 to 10840\n",
      "Data columns (total 13 columns):\n",
      " #   Column          Non-Null Count  Dtype  \n",
      "---  ------          --------------  -----  \n",
      " 0   App             10841 non-null  object \n",
      " 1   Category        10841 non-null  object \n",
      " 2   Rating          9367 non-null   float64\n",
      " 3   Reviews         10841 non-null  object \n",
      " 4   Size            10841 non-null  object \n",
      " 5   Installs        10841 non-null  object \n",
      " 6   Type            10840 non-null  object \n",
      " 7   Price           10841 non-null  object \n",
      " 8   Content Rating  10840 non-null  object \n",
      " 9   Genres          10841 non-null  object \n",
      " 10  Last Updated    10841 non-null  object \n",
      " 11  Current Ver     10833 non-null  object \n",
      " 12  Android Ver     10838 non-null  object \n",
      "dtypes: float64(1), object(12)\n",
      "memory usage: 1.1+ MB\n"
     ]
    }
   ],
   "source": [
    "ps.info()"
   ]
  },
  {
   "cell_type": "code",
   "execution_count": 90,
   "id": "fb08b704",
   "metadata": {},
   "outputs": [
    {
     "data": {
      "text/plain": [
       "(App                0.000000\n",
       " Category           0.000000\n",
       " Rating             0.135965\n",
       " Reviews            0.000000\n",
       " Size               0.000000\n",
       " Installs           0.000000\n",
       " Type               0.000092\n",
       " Price              0.000000\n",
       " Content Rating     0.000092\n",
       " Genres             0.000000\n",
       " Last Updated       0.000000\n",
       " Current Ver        0.000738\n",
       " Android Ver        0.000277\n",
       " Reviews_cleaned    0.000000\n",
       " Price_claned       0.000000\n",
       " Price_cleaned      0.000000\n",
       " dtype: float64,\n",
       " App                   0\n",
       " Category              0\n",
       " Rating             1474\n",
       " Reviews               0\n",
       " Size                  0\n",
       " Installs              0\n",
       " Type                  1\n",
       " Price                 0\n",
       " Content Rating        1\n",
       " Genres                0\n",
       " Last Updated          0\n",
       " Current Ver           8\n",
       " Android Ver           3\n",
       " Reviews_cleaned       0\n",
       " Price_claned          0\n",
       " Price_cleaned         0\n",
       " dtype: int64)"
      ]
     },
     "execution_count": 90,
     "metadata": {},
     "output_type": "execute_result"
    }
   ],
   "source": [
    "ps.isnull().mean(), ps.isnull().sum()"
   ]
  },
  {
   "cell_type": "code",
   "execution_count": 26,
   "id": "045b8ed8",
   "metadata": {},
   "outputs": [
    {
     "name": "stdout",
     "output_type": "stream",
     "text": [
      "p-value: 0.0\n"
     ]
    }
   ],
   "source": [
    "obs, p, tvds = missingness_ptest(ps, 'Rating', 'Genres')\n",
    "print('p-value: {}'.format(p))"
   ]
  },
  {
   "cell_type": "code",
   "execution_count": 40,
   "id": "d74ac849",
   "metadata": {},
   "outputs": [
    {
     "data": {
      "text/plain": [
       "array(['159', '967', '87510', ..., '603', '1195', '398307'], dtype=object)"
      ]
     },
     "execution_count": 40,
     "metadata": {},
     "output_type": "execute_result"
    }
   ],
   "source": [
    "ps.Reviews.unique()"
   ]
  },
  {
   "cell_type": "code",
   "execution_count": 51,
   "id": "6f33de14",
   "metadata": {},
   "outputs": [
    {
     "data": {
      "text/html": [
       "<div>\n",
       "<style scoped>\n",
       "    .dataframe tbody tr th:only-of-type {\n",
       "        vertical-align: middle;\n",
       "    }\n",
       "\n",
       "    .dataframe tbody tr th {\n",
       "        vertical-align: top;\n",
       "    }\n",
       "\n",
       "    .dataframe thead th {\n",
       "        text-align: right;\n",
       "    }\n",
       "</style>\n",
       "<table border=\"1\" class=\"dataframe\">\n",
       "  <thead>\n",
       "    <tr style=\"text-align: right;\">\n",
       "      <th></th>\n",
       "      <th>App</th>\n",
       "      <th>Category</th>\n",
       "      <th>Rating</th>\n",
       "      <th>Reviews</th>\n",
       "      <th>Size</th>\n",
       "      <th>Installs</th>\n",
       "      <th>Type</th>\n",
       "      <th>Price</th>\n",
       "      <th>Content Rating</th>\n",
       "      <th>Genres</th>\n",
       "      <th>Last Updated</th>\n",
       "      <th>Current Ver</th>\n",
       "      <th>Android Ver</th>\n",
       "    </tr>\n",
       "  </thead>\n",
       "  <tbody>\n",
       "    <tr>\n",
       "      <th>10472</th>\n",
       "      <td>Life Made WI-Fi Touchscreen Photo Frame</td>\n",
       "      <td>1.9</td>\n",
       "      <td>19.0</td>\n",
       "      <td>3.0M</td>\n",
       "      <td>1,000+</td>\n",
       "      <td>Free</td>\n",
       "      <td>0</td>\n",
       "      <td>Everyone</td>\n",
       "      <td>NaN</td>\n",
       "      <td>February 11, 2018</td>\n",
       "      <td>1.0.19</td>\n",
       "      <td>4.0 and up</td>\n",
       "      <td>NaN</td>\n",
       "    </tr>\n",
       "  </tbody>\n",
       "</table>\n",
       "</div>"
      ],
      "text/plain": [
       "                                           App Category  Rating Reviews  \\\n",
       "10472  Life Made WI-Fi Touchscreen Photo Frame      1.9    19.0    3.0M   \n",
       "\n",
       "         Size Installs Type     Price Content Rating             Genres  \\\n",
       "10472  1,000+     Free    0  Everyone            NaN  February 11, 2018   \n",
       "\n",
       "      Last Updated Current Ver Android Ver  \n",
       "10472       1.0.19  4.0 and up         NaN  "
      ]
     },
     "execution_count": 51,
     "metadata": {},
     "output_type": "execute_result"
    }
   ],
   "source": [
    "ps[ps.Reviews.str.find('M') != -1]"
   ]
  },
  {
   "cell_type": "code",
   "execution_count": 54,
   "id": "393650fd",
   "metadata": {},
   "outputs": [],
   "source": [
    "def assess_missingness(data,focus_col,compare_col,stat=\"tvd\",n_repetitions=1000):\n",
    "    def tvd(data,missing_col,compare_col):\n",
    "        pivoted = (\n",
    "            shuffled\n",
    "            .pivot_table(index=missing_col, columns=compare_col, aggfunc='size')\n",
    "            .apply(lambda x: x / x.sum(), axis=1)\n",
    "        )\n",
    "\n",
    "        tvd = pivoted.diff().iloc[-1].abs().sum() / 2\n",
    "        return tvd\n",
    "    \n",
    "    def ks_test(data,missing_col,compare_col):\n",
    "        missing_data = data.loc[data[missing_col],compare_col]\n",
    "        nonmissing_data = data.loc[~data[missing_col],compare_col]\n",
    "        return ks_2samp(missing_data, nonmissing_data).pvalue\n",
    "    \n",
    "    shuffled = data.copy()\n",
    "    missing_col = focus_col+'_missing'\n",
    "    shuffled[missing_col] = shuffled[focus_col].isna()\n",
    "    \n",
    "    \n",
    "    if stat == \"ks\":\n",
    "        return ks_test(shuffled,missing_col,compare_col)\n",
    "    \n",
    "    if stat == \"tvd\":\n",
    "        obs_tvd = tvd(data,missing_col,compare_col)\n",
    "        tvds = []\n",
    "        for _ in range(n_repetitions):\n",
    "\n",
    "            # Shuffling genders and assigning back to the DataFrame\n",
    "            shuffled[compare_col] = np.random.permutation(shuffled[compare_col])\n",
    "            tvds.append(tvd(shuffled,missing_col,compare_col))\n",
    "        pval = np.mean(np.array(tvds) >= obs_tvd)\n",
    "        return pval"
   ]
  },
  {
   "cell_type": "code",
   "execution_count": 58,
   "id": "46c6f6c6",
   "metadata": {},
   "outputs": [],
   "source": [
    "ps['Reviews_cleaned'] = ps.Reviews.str.replace('M', '').astype(float)"
   ]
  },
  {
   "cell_type": "code",
   "execution_count": 56,
   "id": "bffca4d4",
   "metadata": {},
   "outputs": [
    {
     "data": {
      "text/plain": [
       "0.0"
      ]
     },
     "execution_count": 56,
     "metadata": {},
     "output_type": "execute_result"
    }
   ],
   "source": [
    "assess_missingness(ps,\"Rating\",\"Genres\")"
   ]
  },
  {
   "cell_type": "code",
   "execution_count": 60,
   "id": "31142284",
   "metadata": {},
   "outputs": [
    {
     "data": {
      "text/plain": [
       "1.057e-321"
      ]
     },
     "execution_count": 60,
     "metadata": {},
     "output_type": "execute_result"
    }
   ],
   "source": [
    "assess_missingness(ps,\"Rating\",\"Reviews_cleaned\", stat='ks')"
   ]
  },
  {
   "cell_type": "code",
   "execution_count": 63,
   "id": "73847df9",
   "metadata": {},
   "outputs": [
    {
     "data": {
      "text/plain": [
       "Index(['App', 'Category', 'Rating', 'Reviews', 'Size', 'Installs', 'Type',\n",
       "       'Price', 'Content Rating', 'Genres', 'Last Updated', 'Current Ver',\n",
       "       'Android Ver', 'Reviews_cleaned'],\n",
       "      dtype='object')"
      ]
     },
     "execution_count": 63,
     "metadata": {},
     "output_type": "execute_result"
    }
   ],
   "source": [
    "ps.columns"
   ]
  },
  {
   "cell_type": "code",
   "execution_count": 66,
   "id": "6e750775",
   "metadata": {},
   "outputs": [
    {
     "data": {
      "text/html": [
       "<div>\n",
       "<style scoped>\n",
       "    .dataframe tbody tr th:only-of-type {\n",
       "        vertical-align: middle;\n",
       "    }\n",
       "\n",
       "    .dataframe tbody tr th {\n",
       "        vertical-align: top;\n",
       "    }\n",
       "\n",
       "    .dataframe thead th {\n",
       "        text-align: right;\n",
       "    }\n",
       "</style>\n",
       "<table border=\"1\" class=\"dataframe\">\n",
       "  <thead>\n",
       "    <tr style=\"text-align: right;\">\n",
       "      <th></th>\n",
       "      <th>App</th>\n",
       "      <th>Category</th>\n",
       "      <th>Rating</th>\n",
       "      <th>Reviews</th>\n",
       "      <th>Size</th>\n",
       "      <th>Installs</th>\n",
       "      <th>Type</th>\n",
       "      <th>Price</th>\n",
       "      <th>Content Rating</th>\n",
       "      <th>Genres</th>\n",
       "      <th>Last Updated</th>\n",
       "      <th>Current Ver</th>\n",
       "      <th>Android Ver</th>\n",
       "      <th>Reviews_cleaned</th>\n",
       "    </tr>\n",
       "  </thead>\n",
       "  <tbody>\n",
       "    <tr>\n",
       "      <th>0</th>\n",
       "      <td>Photo Editor &amp; Candy Camera &amp; Grid &amp; ScrapBook</td>\n",
       "      <td>ART_AND_DESIGN</td>\n",
       "      <td>4.1</td>\n",
       "      <td>159</td>\n",
       "      <td>19M</td>\n",
       "      <td>10,000+</td>\n",
       "      <td>Free</td>\n",
       "      <td>0</td>\n",
       "      <td>Everyone</td>\n",
       "      <td>Art &amp; Design</td>\n",
       "      <td>January 7, 2018</td>\n",
       "      <td>1.0.0</td>\n",
       "      <td>4.0.3 and up</td>\n",
       "      <td>159.0</td>\n",
       "    </tr>\n",
       "    <tr>\n",
       "      <th>1</th>\n",
       "      <td>Coloring book moana</td>\n",
       "      <td>ART_AND_DESIGN</td>\n",
       "      <td>3.9</td>\n",
       "      <td>967</td>\n",
       "      <td>14M</td>\n",
       "      <td>500,000+</td>\n",
       "      <td>Free</td>\n",
       "      <td>0</td>\n",
       "      <td>Everyone</td>\n",
       "      <td>Art &amp; Design;Pretend Play</td>\n",
       "      <td>January 15, 2018</td>\n",
       "      <td>2.0.0</td>\n",
       "      <td>4.0.3 and up</td>\n",
       "      <td>967.0</td>\n",
       "    </tr>\n",
       "    <tr>\n",
       "      <th>2</th>\n",
       "      <td>U Launcher Lite – FREE Live Cool Themes, Hide ...</td>\n",
       "      <td>ART_AND_DESIGN</td>\n",
       "      <td>4.7</td>\n",
       "      <td>87510</td>\n",
       "      <td>8.7M</td>\n",
       "      <td>5,000,000+</td>\n",
       "      <td>Free</td>\n",
       "      <td>0</td>\n",
       "      <td>Everyone</td>\n",
       "      <td>Art &amp; Design</td>\n",
       "      <td>August 1, 2018</td>\n",
       "      <td>1.2.4</td>\n",
       "      <td>4.0.3 and up</td>\n",
       "      <td>87510.0</td>\n",
       "    </tr>\n",
       "    <tr>\n",
       "      <th>3</th>\n",
       "      <td>Sketch - Draw &amp; Paint</td>\n",
       "      <td>ART_AND_DESIGN</td>\n",
       "      <td>4.5</td>\n",
       "      <td>215644</td>\n",
       "      <td>25M</td>\n",
       "      <td>50,000,000+</td>\n",
       "      <td>Free</td>\n",
       "      <td>0</td>\n",
       "      <td>Teen</td>\n",
       "      <td>Art &amp; Design</td>\n",
       "      <td>June 8, 2018</td>\n",
       "      <td>Varies with device</td>\n",
       "      <td>4.2 and up</td>\n",
       "      <td>215644.0</td>\n",
       "    </tr>\n",
       "    <tr>\n",
       "      <th>4</th>\n",
       "      <td>Pixel Draw - Number Art Coloring Book</td>\n",
       "      <td>ART_AND_DESIGN</td>\n",
       "      <td>4.3</td>\n",
       "      <td>967</td>\n",
       "      <td>2.8M</td>\n",
       "      <td>100,000+</td>\n",
       "      <td>Free</td>\n",
       "      <td>0</td>\n",
       "      <td>Everyone</td>\n",
       "      <td>Art &amp; Design;Creativity</td>\n",
       "      <td>June 20, 2018</td>\n",
       "      <td>1.1</td>\n",
       "      <td>4.4 and up</td>\n",
       "      <td>967.0</td>\n",
       "    </tr>\n",
       "  </tbody>\n",
       "</table>\n",
       "</div>"
      ],
      "text/plain": [
       "                                                 App        Category  Rating  \\\n",
       "0     Photo Editor & Candy Camera & Grid & ScrapBook  ART_AND_DESIGN     4.1   \n",
       "1                                Coloring book moana  ART_AND_DESIGN     3.9   \n",
       "2  U Launcher Lite – FREE Live Cool Themes, Hide ...  ART_AND_DESIGN     4.7   \n",
       "3                              Sketch - Draw & Paint  ART_AND_DESIGN     4.5   \n",
       "4              Pixel Draw - Number Art Coloring Book  ART_AND_DESIGN     4.3   \n",
       "\n",
       "  Reviews  Size     Installs  Type Price Content Rating  \\\n",
       "0     159   19M      10,000+  Free     0       Everyone   \n",
       "1     967   14M     500,000+  Free     0       Everyone   \n",
       "2   87510  8.7M   5,000,000+  Free     0       Everyone   \n",
       "3  215644   25M  50,000,000+  Free     0           Teen   \n",
       "4     967  2.8M     100,000+  Free     0       Everyone   \n",
       "\n",
       "                      Genres      Last Updated         Current Ver  \\\n",
       "0               Art & Design   January 7, 2018               1.0.0   \n",
       "1  Art & Design;Pretend Play  January 15, 2018               2.0.0   \n",
       "2               Art & Design    August 1, 2018               1.2.4   \n",
       "3               Art & Design      June 8, 2018  Varies with device   \n",
       "4    Art & Design;Creativity     June 20, 2018                 1.1   \n",
       "\n",
       "    Android Ver  Reviews_cleaned  \n",
       "0  4.0.3 and up            159.0  \n",
       "1  4.0.3 and up            967.0  \n",
       "2  4.0.3 and up          87510.0  \n",
       "3    4.2 and up         215644.0  \n",
       "4    4.4 and up            967.0  "
      ]
     },
     "execution_count": 66,
     "metadata": {},
     "output_type": "execute_result"
    }
   ],
   "source": [
    "ps.head()"
   ]
  },
  {
   "cell_type": "code",
   "execution_count": 67,
   "id": "6b43dd4d",
   "metadata": {},
   "outputs": [
    {
     "data": {
      "text/plain": [
       "0.0"
      ]
     },
     "execution_count": 67,
     "metadata": {},
     "output_type": "execute_result"
    }
   ],
   "source": [
    "assess_missingness(ps, \"Rating\", \"Type\")"
   ]
  },
  {
   "cell_type": "code",
   "execution_count": 88,
   "id": "760806c3",
   "metadata": {},
   "outputs": [
    {
     "name": "stderr",
     "output_type": "stream",
     "text": [
      "/var/folders/42/7620rj0s40l61g76z97k379m0000gn/T/ipykernel_39740/2670680486.py:1: FutureWarning: The default value of regex will change from True to False in a future version. In addition, single character regular expressions will *not* be treated as literal strings when regex=True.\n",
      "  ps['Price_cleaned'] = ps.Price.str.replace('$', '').replace('Everyone', '0').astype(float)\n"
     ]
    }
   ],
   "source": [
    "ps['Price_cleaned'] = ps.Price.str.replace('$', '').replace('Everyone', '0').astype(float)"
   ]
  },
  {
   "cell_type": "code",
   "execution_count": 89,
   "id": "cdb6aec6",
   "metadata": {},
   "outputs": [
    {
     "data": {
      "text/plain": [
       "0.0902642494540807"
      ]
     },
     "execution_count": 89,
     "metadata": {},
     "output_type": "execute_result"
    }
   ],
   "source": [
    "assess_missingness(ps,\"Rating\",\"Price_cleaned\", stat='ks')"
   ]
  }
 ],
 "metadata": {
  "kernelspec": {
   "display_name": "Python 3 (ipykernel)",
   "language": "python",
   "name": "python3"
  },
  "language_info": {
   "codemirror_mode": {
    "name": "ipython",
    "version": 3
   },
   "file_extension": ".py",
   "mimetype": "text/x-python",
   "name": "python",
   "nbconvert_exporter": "python",
   "pygments_lexer": "ipython3",
   "version": "3.8.13"
  }
 },
 "nbformat": 4,
 "nbformat_minor": 5
}
